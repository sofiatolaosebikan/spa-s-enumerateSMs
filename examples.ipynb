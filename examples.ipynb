{
 "cells": [
  {
   "cell_type": "code",
   "execution_count": 1,
   "metadata": {},
   "outputs": [
    {
     "data": {
      "text/html": [
       "<style>.container { width:100% !important; }</style>"
      ],
      "text/plain": [
       "<IPython.core.display.HTML object>"
      ]
     },
     "metadata": {},
     "output_type": "display_data"
    }
   ],
   "source": [
    "# to increase the cell width of the notebook in the current browser\n",
    "from IPython.core.display import display, HTML\n",
    "display(HTML(\"<style>.container { width:100% !important; }</style>\"))\n"
   ]
  },
  {
   "cell_type": "code",
   "execution_count": 3,
   "metadata": {},
   "outputs": [],
   "source": [
    "# run this cell first\n",
    "from enumerateSMs import ESMS"
   ]
  },
  {
   "cell_type": "code",
   "execution_count": 4,
   "metadata": {},
   "outputs": [
    {
     "name": "stdout",
     "output_type": "stream",
     "text": [
      "--------------------------------------------------\n",
      "{'s1': 'p3', 's2': 'p4', 's3': 'p2', 's4': 'p2', 's5': 'p3', 's6': 'p4', 's7': 'p1', 's8': 'p1', 's9': 'p5', 's10': 'p6', 's11': 'p5', 's12': 'p6'}\n",
      "--------------------------------------------------\n",
      "{'s1': 'p3', 's2': 'p6', 's3': 'p2', 's4': 'p2', 's5': 'p3', 's6': 'p4', 's7': 'p1', 's8': 'p1', 's9': 'p5', 's10': 'p6', 's11': 'p5', 's12': 'p4'}\n",
      "--------------------------------------------------\n",
      "{'s1': 'p3', 's2': 'p6', 's3': 'p2', 's4': 'p2', 's5': 'p3', 's6': 'p6', 's7': 'p1', 's8': 'p1', 's9': 'p5', 's10': 'p4', 's11': 'p5', 's12': 'p4'}\n",
      "--------------------------------------------------\n",
      "{'s1': 'p5', 's2': 'p4', 's3': 'p2', 's4': 'p2', 's5': 'p3', 's6': 'p4', 's7': 'p1', 's8': 'p1', 's9': 'p5', 's10': 'p6', 's11': 'p3', 's12': 'p6'}\n",
      "--------------------------------------------------\n",
      "{'s1': 'p5', 's2': 'p4', 's3': 'p2', 's4': 'p2', 's5': 'p5', 's6': 'p4', 's7': 'p1', 's8': 'p1', 's9': 'p3', 's10': 'p6', 's11': 'p3', 's12': 'p6'}\n",
      "--------------------------------------------------\n",
      "{'s1': 'p5', 's2': 'p6', 's3': 'p2', 's4': 'p2', 's5': 'p3', 's6': 'p4', 's7': 'p1', 's8': 'p1', 's9': 'p5', 's10': 'p6', 's11': 'p3', 's12': 'p4'}\n",
      "--------------------------------------------------\n",
      "{'s1': 'p5', 's2': 'p6', 's3': 'p2', 's4': 'p2', 's5': 'p3', 's6': 'p6', 's7': 'p1', 's8': 'p1', 's9': 'p5', 's10': 'p4', 's11': 'p3', 's12': 'p4'}\n",
      "--------------------------------------------------\n",
      "{'s1': 'p5', 's2': 'p6', 's3': 'p2', 's4': 'p2', 's5': 'p5', 's6': 'p4', 's7': 'p1', 's8': 'p1', 's9': 'p3', 's10': 'p6', 's11': 'p3', 's12': 'p4'}\n",
      "--------------------------------------------------\n",
      "{'s1': 'p5', 's2': 'p6', 's3': 'p2', 's4': 'p2', 's5': 'p5', 's6': 'p6', 's7': 'p1', 's8': 'p1', 's9': 'p3', 's10': 'p4', 's11': 'p3', 's12': 'p4'}\n"
     ]
    }
   ],
   "source": [
    "# input1.txt has nine (9) stable matchings\n",
    "filename = \"input1.txt\"\n",
    "E = ESMS(filename)\n",
    "E.choose(1)"
   ]
  },
  {
   "cell_type": "code",
   "execution_count": 5,
   "metadata": {},
   "outputs": [
    {
     "name": "stdout",
     "output_type": "stream",
     "text": [
      "--------------------------------------------------\n",
      "{'s1': 'p1', 's2': 'p2', 's3': 'p3', 's4': 'p4'}\n",
      "--------------------------------------------------\n",
      "{'s1': 'p2', 's2': 'p3', 's3': 'p1', 's4': 'p4'}\n"
     ]
    }
   ],
   "source": [
    "# input1.txt has two (2) stable matchings\n",
    "filename = \"input2.txt\"\n",
    "E = ESMS(filename)\n",
    "E.choose(1)"
   ]
  },
  {
   "cell_type": "code",
   "execution_count": null,
   "metadata": {},
   "outputs": [],
   "source": []
  }
 ],
 "metadata": {
  "anaconda-cloud": {},
  "kernelspec": {
   "display_name": "Python 3",
   "language": "python",
   "name": "python3"
  },
  "language_info": {
   "codemirror_mode": {
    "name": "ipython",
    "version": 3
   },
   "file_extension": ".py",
   "mimetype": "text/x-python",
   "name": "python",
   "nbconvert_exporter": "python",
   "pygments_lexer": "ipython3",
   "version": "3.7.6"
  }
 },
 "nbformat": 4,
 "nbformat_minor": 1
}
